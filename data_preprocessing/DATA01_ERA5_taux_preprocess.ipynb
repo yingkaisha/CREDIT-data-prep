{
 "cells": [
  {
   "cell_type": "markdown",
   "id": "42d3809d-b29f-40dd-a930-963713f4bf74",
   "metadata": {},
   "source": [
    "# Preprocessing (accumulated) surface wind stress from ERA5"
   ]
  },
  {
   "cell_type": "code",
   "execution_count": 1,
   "id": "732e39d5-1e7a-4ecd-b6f4-5e0f6fb79853",
   "metadata": {},
   "outputs": [],
   "source": [
    "import os\n",
    "import sys\n",
    "import yaml\n",
    "import dask\n",
    "import zarr\n",
    "import numpy as np\n",
    "import xarray as xr\n",
    "import pandas as pd\n",
    "from glob import glob\n",
    "\n",
    "import calendar\n",
    "from datetime import datetime, timedelta\n",
    "from dateutil.relativedelta import relativedelta\n",
    "\n",
    "sys.path.insert(0, os.path.realpath('../libs/'))\n",
    "import verif_utils as vu"
   ]
  },
  {
   "cell_type": "code",
   "execution_count": 2,
   "id": "a4ff2b88-2679-49a5-9f13-3e6d9bb8924a",
   "metadata": {},
   "outputs": [],
   "source": [
    "import matplotlib.pyplot as plt\n",
    "%matplotlib inline"
   ]
  },
  {
   "cell_type": "code",
   "execution_count": 3,
   "id": "7036bd01-1a91-407e-8d87-f6c804252283",
   "metadata": {},
   "outputs": [],
   "source": [
    "year = 1979\n",
    "N_days = 366 if year % 4 == 0 else 365\n",
    "\n",
    "config_name = os.path.realpath('data_config_6h.yml')\n",
    "\n",
    "with open(config_name, 'r') as stream:\n",
    "    conf = yaml.safe_load(stream)"
   ]
  },
  {
   "cell_type": "code",
   "execution_count": 7,
   "id": "89a3bd97-8de0-425e-a0ed-ef1688131ae1",
   "metadata": {},
   "outputs": [],
   "source": [
    "# save to zarr\n",
    "base_dir = conf['ARCO']['save_loc'] + 'accum/' \n",
    "if not os.path.exists(base_dir):\n",
    "    os.makedirs(base_dir)\n",
    "\n",
    "compress = zarr.Blosc(cname='zstd', clevel=1, shuffle=zarr.Blosc.SHUFFLE, blocksize=0)\n",
    "\n",
    "\n",
    "chunk_size_3d = dict(chunks=(conf['ARCO']['chunk_size_3d']['time'],\n",
    "                             conf['ARCO']['chunk_size_3d']['latitude'],\n",
    "                             conf['ARCO']['chunk_size_3d']['longitude']))\n",
    "\n",
    "\n",
    "dict_encoding = {}\n",
    "\n",
    "variables_levels = {\n",
    "    'eastward_gravity_wave_surface_stress': None,\n",
    "    'eastward_turbulent_surface_stress': None,\n",
    "    'northward_gravity_wave_surface_stress': None,\n",
    "    'northward_turbulent_surface_stress': None\n",
    "}\n",
    "\n",
    "for i_var, var in enumerate(list(variables_levels.keys())):\n",
    "    dict_encoding[var] = {'compressor': compress, **chunk_size_3d}"
   ]
  },
  {
   "cell_type": "code",
   "execution_count": 8,
   "id": "5a6edf66-1acc-42e3-8df7-3a417f674e9a",
   "metadata": {},
   "outputs": [],
   "source": [
    "ERA5_1h = xr.open_zarr(\n",
    "    \"gs://gcp-public-data-arco-era5/ar/full_37-1h-0p25deg-chunk-1.zarr-v3\",\n",
    "    chunks=None,\n",
    "    storage_options=dict(token='anon'),)\n",
    "\n",
    "time_start = '{}-12-31T00'.format(year-1)\n",
    "time_start_save = '{}-01-01T00'.format(year)\n",
    "time_end = '{}-01-03T23'.format(year)\n",
    "#time_end = '{}-12-31T23'.format(year)\n",
    "ERA5_1h_yearly = ERA5_1h.sel(time=slice(time_start, time_end))\n",
    "\n",
    "\n",
    "\n",
    "ERA5_1h_save = vu.ds_subset_everything(ERA5_1h_yearly, variables_levels)\n",
    "\n",
    "ERA5_1h_shifted = ERA5_1h_save.shift(time=-1)\n",
    "ERA5_6h = ERA5_1h_shifted.resample(time='6h').sum()\n",
    "ERA5_6h['time'] = ERA5_6h['time'] + pd.Timedelta(hours=6)\n",
    "\n",
    "ERA5_6h_save = ERA5_6h.sel(time=slice(time_start_save, time_end))\n",
    "ERA5_6h_save = ERA5_6h_save.chunk(conf['ARCO']['chunk_size_3d'])\n",
    "\n",
    "save_name = base_dir + conf['ARCO']['prefix'] + '_surf_stress_{}.zarr'.format(year)\n",
    "# ERA5_6h_save.to_zarr(save_name, mode=\"w\", consolidated=True, compute=True, encoding=dict_encoding)"
   ]
  },
  {
   "cell_type": "code",
   "execution_count": null,
   "id": "c2d02458-f97b-4518-ae90-03ba9392b654",
   "metadata": {},
   "outputs": [],
   "source": []
  }
 ],
 "metadata": {
  "kernelspec": {
   "display_name": "Python 3 (ipykernel)",
   "language": "python",
   "name": "python3"
  },
  "language_info": {
   "codemirror_mode": {
    "name": "ipython",
    "version": 3
   },
   "file_extension": ".py",
   "mimetype": "text/x-python",
   "name": "python",
   "nbconvert_exporter": "python",
   "pygments_lexer": "ipython3",
   "version": "3.11.9"
  }
 },
 "nbformat": 4,
 "nbformat_minor": 5
}
